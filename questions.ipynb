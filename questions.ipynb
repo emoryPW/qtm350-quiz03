{
 "cells": [
  {
   "cell_type": "code",
   "execution_count": 37,
   "metadata": {},
   "outputs": [
    {
     "name": "stdout",
     "output_type": "stream",
     "text": [
      "Emory ID: 2551008\n"
     ]
    }
   ],
   "source": [
    "# Print your Emory ID here\n",
    "print(\"Emory ID: 2551008\")"
   ]
  },
  {
   "cell_type": "code",
   "execution_count": 38,
   "metadata": {},
   "outputs": [],
   "source": [
    "# Import the necessary libraries and load the data\n",
    "import pandas as pd\n",
    "df = pd.read_csv(\"passwords.csv\")"
   ]
  },
  {
   "cell_type": "markdown",
   "metadata": {},
   "source": [
    "1. An online password attack is when someone tries to hack your account by simply trying a very large number of username/password combinations to access your account. For each `password` in our dataset, the `value` column shows the amount of time it is estimated to take an “online password attack” to hack your account. The column `time_unit` shows the units of that time value (e.g., hours, days, years, etc.). It would be much nicer if our values were of the same units so we can more easily compare the “online password guessing time” for each password. So your first task is to convert all of the values to units of hours (assume the conversion units provided below, e.g., 1 day is 24 hours, 1 week is 168 hours, etc)."
   ]
  },
  {
   "cell_type": "code",
   "execution_count": 39,
   "metadata": {},
   "outputs": [],
   "source": [
    "# Your answer here \n",
    "\n",
    "units = {\n",
    "    \"seconds\": 1 / 3600,\n",
    "    \"minutes\": 1 / 60,\n",
    "    \"days\": 24,\n",
    "    \"weeks\": 168,\n",
    "    \"months\": 720,\n",
    "    \"years\": 8760,\n",
    "}\n",
    "\n",
    "df['value_hours'] = df.apply(lambda row: row['value'] * units.get(row['time_unit'], 1), axis=1)"
   ]
  },
  {
   "cell_type": "markdown",
   "metadata": {},
   "source": [
    "2. Are there any missing values in the dataset? If so, how many? After you have counted the, please drop them from the dataset."
   ]
  },
  {
   "cell_type": "code",
   "execution_count": 40,
   "metadata": {},
   "outputs": [
    {
     "name": "stdout",
     "output_type": "stream",
     "text": [
      "Missing values per column: rank                 7\n",
      "password             7\n",
      "category             7\n",
      "value                7\n",
      "time_unit            7\n",
      "offline_crack_sec    7\n",
      "rank_alt             7\n",
      "strength             7\n",
      "font_size            7\n",
      "value_hours          7\n",
      "dtype: int64\n"
     ]
    }
   ],
   "source": [
    "# Your answer here\n",
    "\n",
    "missing_values = df.isna().sum()\n",
    "print(\"Missing values per column:\", missing_values)\n",
    "df = df.dropna()"
   ]
  },
  {
   "cell_type": "markdown",
   "metadata": {},
   "source": [
    "3. Which password category has the highest average strength?\n"
   ]
  },
  {
   "cell_type": "code",
   "execution_count": 41,
   "metadata": {},
   "outputs": [
    {
     "name": "stdout",
     "output_type": "stream",
     "text": [
      "Highest average strength by category: category\n",
      "nerdy-pop    14.0\n",
      "Name: strength, dtype: float64\n"
     ]
    }
   ],
   "source": [
    "# Your answer here\n",
    "df['strength'] = pd.to_numeric(df['strength'], errors='coerce')\n",
    "average_strength = df.groupby('category')['strength'].mean().sort_values(ascending=False)\n",
    "print(\"Highest average strength by category:\", average_strength.head(1))\n"
   ]
  },
  {
   "cell_type": "markdown",
   "metadata": {},
   "source": [
    "4. What is the rank of the password 'qwerty'?"
   ]
  },
  {
   "cell_type": "code",
   "execution_count": 42,
   "metadata": {},
   "outputs": [
    {
     "name": "stdout",
     "output_type": "stream",
     "text": [
      "Rank of 'qwerty': 5.0\n"
     ]
    }
   ],
   "source": [
    "# Your answer here\n",
    "qwerty_rank = df.loc[df['password'] == 'qwerty', 'rank'].iloc[0]\n",
    "print(\"Rank of 'qwerty':\", qwerty_rank)\n"
   ]
  },
  {
   "cell_type": "markdown",
   "metadata": {},
   "source": [
    "5. How many passwords have more than 8 characters?"
   ]
  },
  {
   "cell_type": "code",
   "execution_count": 43,
   "metadata": {},
   "outputs": [
    {
     "name": "stdout",
     "output_type": "stream",
     "text": [
      "Passwords with more than 8 characters: 1\n"
     ]
    }
   ],
   "source": [
    "# Your answer here\n",
    "count = df[df['password'].str.len() > 8].shape[0]\n",
    "print(\"Passwords with more than 8 characters:\", count)\n"
   ]
  },
  {
   "cell_type": "markdown",
   "metadata": {},
   "source": [
    "6. How many passwords do not contain a number?"
   ]
  },
  {
   "cell_type": "code",
   "execution_count": 44,
   "metadata": {},
   "outputs": [
    {
     "name": "stdout",
     "output_type": "stream",
     "text": [
      "Passwords without a number: 446\n"
     ]
    }
   ],
   "source": [
    "# Your answer here\n",
    "num_count = df[~df['password'].str.contains(r'\\d')].shape[0]\n",
    "print(\"Passwords without a number:\", num_count)\n"
   ]
  },
  {
   "cell_type": "markdown",
   "metadata": {},
   "source": [
    "7. What is the average time in hours needed to crack these passwords that begin with `123`? How does this compare to the average of all passwords in the dataset?"
   ]
  },
  {
   "cell_type": "code",
   "execution_count": 45,
   "metadata": {},
   "outputs": [
    {
     "name": "stdout",
     "output_type": "stream",
     "text": [
      "Average time for passwords starting with '123': 107.30332438271606\n",
      "Overall average cracking time: 13917.565247227776\n"
     ]
    }
   ],
   "source": [
    "# Your answer here\n",
    "passwords_123 = df[df['password'].str.startswith('123')]\n",
    "average_123_time = passwords_123['value_hours'].mean()\n",
    "overall_average_time = df['value_hours'].mean()\n",
    "\n",
    "print(\"Average time for passwords starting with '123':\", average_123_time)\n",
    "print(\"Overall average cracking time:\", overall_average_time)\n"
   ]
  },
  {
   "cell_type": "markdown",
   "metadata": {},
   "source": [
    "8. What percentage of passwords are of the `simple-alphanumeric` category?"
   ]
  },
  {
   "cell_type": "code",
   "execution_count": 58,
   "metadata": {},
   "outputs": [
    {
     "name": "stdout",
     "output_type": "stream",
     "text": [
      "Percentage of simple-alphanumeric passwords: 12.2\n"
     ]
    }
   ],
   "source": [
    "# Your answer here\n",
    "alphanumeric = df[df['category'] == 'simple-alphanumeric'].shape[0]\n",
    "total_passwords = df.shape[0]\n",
    "percentage_simple_alphanumeric = (alphanumeric / total_passwords) * 100\n",
    "print(\"Percentage of simple-alphanumeric passwords:\", percentage_simple_alphanumeric)\n"
   ]
  },
  {
   "cell_type": "markdown",
   "metadata": {},
   "source": [
    "9. How many passwords have a strength rating below 5? What is their percentage?"
   ]
  },
  {
   "cell_type": "code",
   "execution_count": 59,
   "metadata": {},
   "outputs": [
    {
     "name": "stdout",
     "output_type": "stream",
     "text": [
      "Passwords with strength below 5: 73\n",
      "Percentage: 14.6\n"
     ]
    }
   ],
   "source": [
    "# Your answer here\n",
    "below_5 = df[df['strength'] < 5].shape[0]\n",
    "below_5_percentage = ( below_5/ total_passwords) * 100\n",
    "print(\"Passwords with strength below 5:\", below_5)\n",
    "print(\"Percentage:\", below_5_percentage)\n",
    "\n"
   ]
  },
  {
   "cell_type": "markdown",
   "metadata": {},
   "source": [
    "10. What is the most common password in the dataset?"
   ]
  },
  {
   "cell_type": "code",
   "execution_count": 48,
   "metadata": {},
   "outputs": [
    {
     "name": "stdout",
     "output_type": "stream",
     "text": [
      "Most common password: password\n"
     ]
    }
   ],
   "source": [
    "# Your answer here\n",
    "\n",
    "sorted_df = df.sort_values(by='rank', ascending=True)\n",
    "password = sorted_df.iloc[0]['password']\n",
    "print(\"Most common password:\", password)"
   ]
  },
  {
   "cell_type": "markdown",
   "metadata": {},
   "source": [
    "11. How many unique passwords are there in each category, and what is their average length?"
   ]
  },
  {
   "cell_type": "code",
   "execution_count": 49,
   "metadata": {},
   "outputs": [
    {
     "name": "stdout",
     "output_type": "stream",
     "text": [
      "                     UniquePasswords  AvgLength\n",
      "category                                       \n",
      "animal                            29   6.206897\n",
      "cool-macho                        79   6.253165\n",
      "fluffy                            44   5.795455\n",
      "food                              11   6.090909\n",
      "name                             183   6.218579\n",
      "nerdy-pop                         30   6.633333\n",
      "password-related                  15   6.333333\n",
      "rebellious-rude                   11   6.363636\n",
      "simple-alphanumeric               61   5.934426\n",
      "sport                             37   6.513514\n"
     ]
    }
   ],
   "source": [
    "# Your answer here\n",
    "category_stats = df.groupby('category').agg(\n",
    "    UniquePasswords=('password', 'nunique'),\n",
    "    AvgLength=('password', lambda x: x.str.len().mean())\n",
    ")\n",
    "print(category_stats)\n",
    "\n"
   ]
  },
  {
   "cell_type": "markdown",
   "metadata": {},
   "source": [
    "12. What is the median rank and strength for passwords of each length?"
   ]
  },
  {
   "cell_type": "code",
   "execution_count": 50,
   "metadata": {},
   "outputs": [
    {
     "name": "stdout",
     "output_type": "stream",
     "text": [
      "        MedianRank  MedianStrength\n",
      "length                            \n",
      "4            326.0             6.0\n",
      "5            343.0             7.0\n",
      "6            231.0             7.0\n",
      "7            222.0             8.0\n",
      "8            286.0             8.0\n",
      "9             49.0             4.0\n"
     ]
    }
   ],
   "source": [
    "# Your answer here\n",
    "df['length'] = df['password'].str.len()\n",
    "median_stats = df.groupby('length').agg(\n",
    "    MedianRank=('rank', 'median'),\n",
    "    MedianStrength=('strength', 'median')\n",
    ")\n",
    "print(median_stats)\n"
   ]
  },
  {
   "cell_type": "markdown",
   "metadata": {},
   "source": [
    "13. Add a column `strength_label` with values `weak` if strength is below 5, else `strong`. Use a lambda function."
   ]
  },
  {
   "cell_type": "code",
   "execution_count": 51,
   "metadata": {},
   "outputs": [
    {
     "name": "stdout",
     "output_type": "stream",
     "text": [
      "   password  strength strength_label\n",
      "0  password       8.0         strong\n",
      "1    123456       4.0           weak\n",
      "2  12345678       4.0           weak\n",
      "3      1234       4.0           weak\n",
      "4    qwerty       8.0         strong\n"
     ]
    }
   ],
   "source": [
    "# Your answer here\n",
    "df['strength_label'] = df['strength'].apply(lambda x: 'weak' if x < 5 else 'strong')\n",
    "print(df[['password', 'strength', 'strength_label']].head())\n"
   ]
  },
  {
   "cell_type": "markdown",
   "metadata": {},
   "source": [
    "14. Create a column `high_value` with a value of `True` if value is in the top 10% of values in the dataset."
   ]
  },
  {
   "cell_type": "code",
   "execution_count": 52,
   "metadata": {},
   "outputs": [
    {
     "name": "stdout",
     "output_type": "stream",
     "text": [
      "   password  value  high_value\n",
      "0  password   6.91       False\n",
      "1    123456  18.52        True\n",
      "2  12345678   1.29       False\n",
      "3      1234  11.11        True\n",
      "4    qwerty   3.72       False\n"
     ]
    }
   ],
   "source": [
    "# Your answer here\n",
    "threshold = df['value'].quantile(0.9)\n",
    "df['high_value'] = df['value'] >= threshold\n",
    "print(df[['password', 'value', 'high_value']].head())\n"
   ]
  },
  {
   "cell_type": "markdown",
   "metadata": {},
   "source": [
    "15. Join all passwords within each `category` into a single string."
   ]
  },
  {
   "cell_type": "code",
   "execution_count": 53,
   "metadata": {},
   "outputs": [
    {
     "name": "stdout",
     "output_type": "stream",
     "text": [
      "category\n",
      "animal                 dragon monkey bigdog falcon phoenix tigers chi...\n",
      "cool-macho             mustang shadow master harley hunter ranger bus...\n",
      "fluffy                 love sunshine silver orange ginger summer prin...\n",
      "food                   pepper cheese coffee banana butter muffin hotd...\n",
      "name                   michael jennifer jordan superman thomas tigger...\n",
      "nerdy-pop              starwars computer merlin matrix snoopy boomer ...\n",
      "password-related       password letmein test pass access gateway plea...\n",
      "rebellious-rude        biteme freedom secret whatever badboy sexsex b...\n",
      "simple-alphanumeric    123456 12345678 1234 qwerty 12345 696969 abc12...\n",
      "sport                  baseball football soccer hockey dallas yankees...\n",
      "Name: password, dtype: object\n"
     ]
    }
   ],
   "source": [
    "# Your answer here\n",
    "passwords_joined = df.groupby('category')['password'].apply(lambda x: ' '.join(x))\n",
    "print(passwords_joined)\n"
   ]
  },
  {
   "cell_type": "markdown",
   "metadata": {},
   "source": [
    "**Bonus question 01**: What is the correlation between password length and strength? Create a scatter plot with regression line."
   ]
  },
  {
   "cell_type": "code",
   "execution_count": 18,
   "metadata": {},
   "outputs": [],
   "source": [
    "# Your answer here"
   ]
  },
  {
   "cell_type": "markdown",
   "metadata": {},
   "source": [
    "**Bonus question 02**: Find all passwords with palindromes."
   ]
  },
  {
   "cell_type": "code",
   "execution_count": 61,
   "metadata": {},
   "outputs": [
    {
     "name": "stdout",
     "output_type": "stream",
     "text": [
      "Palindromic passwords:\n",
      "      password\n",
      "18     111111\n",
      "59     666666\n",
      "76       1111\n",
      "105    aaaaaa\n",
      "144    xxxxxx\n",
      "190    hannah\n",
      "192  11111111\n",
      "206   7777777\n",
      "277    222222\n",
      "285  xxxxxxxx\n",
      "286    777777\n",
      "291  88888888\n",
      "314      2112\n",
      "324      7777\n",
      "352    zzzzzz\n",
      "364    555555\n",
      "371      2222\n",
      "373      4444\n",
      "409     11111\n",
      "413    123321\n",
      "420    999999\n",
      "458    333333\n",
      "472      xxxx\n",
      "489    888888\n"
     ]
    }
   ],
   "source": [
    "# Your answer here\n",
    "palindromes = df[df['password'] == df['password'].apply(lambda x: x[::-1])]\n",
    "print(\"Palindromic passwords:\\n\", palindromes[['password']])\n"
   ]
  }
 ],
 "metadata": {
  "kernelspec": {
   "display_name": "base",
   "language": "python",
   "name": "python3"
  },
  "language_info": {
   "codemirror_mode": {
    "name": "ipython",
    "version": 3
   },
   "file_extension": ".py",
   "mimetype": "text/x-python",
   "name": "python",
   "nbconvert_exporter": "python",
   "pygments_lexer": "ipython3",
   "version": "3.11.5"
  }
 },
 "nbformat": 4,
 "nbformat_minor": 2
}
